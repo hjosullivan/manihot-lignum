{
 "cells": [
  {
   "cell_type": "markdown",
   "metadata": {},
   "source": [
    "# Manihot LIGNUM sky configuration"
   ]
  },
  {
   "cell_type": "markdown",
   "metadata": {},
   "source": [
    "One of the key features of the LIGNUM model is incoming sky radiation. This is step is necessary for estimating tree photosynthesis, respiration and ultimately growth. Imcoming radiation is implemeted through the `Firmament` sub-model - please see `Firmament.h` for more details.\n",
    "\n",
    "Here I will visualise the output sky radition in python because it is easier and prettier than C++."
   ]
  },
  {
   "cell_type": "code",
   "execution_count": 77,
   "metadata": {},
   "outputs": [],
   "source": [
    "# Import packages\n",
    "from matplotlib import pyplot as plt\n",
    "import pandas as pd\n",
    "from mpl_toolkits.mplot3d import Axes3D\n",
    "import seaborn as sns"
   ]
  },
  {
   "cell_type": "code",
   "execution_count": 78,
   "metadata": {},
   "outputs": [],
   "source": [
    "# Import sky output csv\n",
    "df = pd.read_csv(\"../manihot-sky/output.txt\", sep=',',\n",
    "                 names = [\"inclination\", \"x\", \"y\", \"z\", \"radiation_intensity\"])"
   ]
  },
  {
   "cell_type": "code",
   "execution_count": 79,
   "metadata": {},
   "outputs": [
    {
     "data": {
      "text/html": [
       "<div>\n",
       "<style scoped>\n",
       "    .dataframe tbody tr th:only-of-type {\n",
       "        vertical-align: middle;\n",
       "    }\n",
       "\n",
       "    .dataframe tbody tr th {\n",
       "        vertical-align: top;\n",
       "    }\n",
       "\n",
       "    .dataframe thead th {\n",
       "        text-align: right;\n",
       "    }\n",
       "</style>\n",
       "<table border=\"1\" class=\"dataframe\">\n",
       "  <thead>\n",
       "    <tr style=\"text-align: right;\">\n",
       "      <th></th>\n",
       "      <th>inclination</th>\n",
       "      <th>x</th>\n",
       "      <th>y</th>\n",
       "      <th>z</th>\n",
       "      <th>radiation_intensity</th>\n",
       "    </tr>\n",
       "  </thead>\n",
       "  <tbody>\n",
       "    <tr>\n",
       "      <th>0</th>\n",
       "      <td>0</td>\n",
       "      <td>0.999508</td>\n",
       "      <td>0.000000</td>\n",
       "      <td>0.031376</td>\n",
       "      <td>2.28447</td>\n",
       "    </tr>\n",
       "    <tr>\n",
       "      <th>1</th>\n",
       "      <td>1</td>\n",
       "      <td>0.977666</td>\n",
       "      <td>0.207809</td>\n",
       "      <td>0.031376</td>\n",
       "      <td>2.28447</td>\n",
       "    </tr>\n",
       "    <tr>\n",
       "      <th>2</th>\n",
       "      <td>2</td>\n",
       "      <td>0.913096</td>\n",
       "      <td>0.406536</td>\n",
       "      <td>0.031376</td>\n",
       "      <td>2.28447</td>\n",
       "    </tr>\n",
       "    <tr>\n",
       "      <th>3</th>\n",
       "      <td>3</td>\n",
       "      <td>0.808619</td>\n",
       "      <td>0.587496</td>\n",
       "      <td>0.031376</td>\n",
       "      <td>2.28447</td>\n",
       "    </tr>\n",
       "    <tr>\n",
       "      <th>4</th>\n",
       "      <td>4</td>\n",
       "      <td>0.668801</td>\n",
       "      <td>0.742779</td>\n",
       "      <td>0.031376</td>\n",
       "      <td>2.28447</td>\n",
       "    </tr>\n",
       "    <tr>\n",
       "      <th>5</th>\n",
       "      <td>5</td>\n",
       "      <td>0.499754</td>\n",
       "      <td>0.865599</td>\n",
       "      <td>0.031376</td>\n",
       "      <td>2.28447</td>\n",
       "    </tr>\n",
       "    <tr>\n",
       "      <th>6</th>\n",
       "      <td>6</td>\n",
       "      <td>0.308865</td>\n",
       "      <td>0.950588</td>\n",
       "      <td>0.031376</td>\n",
       "      <td>2.28447</td>\n",
       "    </tr>\n",
       "    <tr>\n",
       "      <th>7</th>\n",
       "      <td>7</td>\n",
       "      <td>0.104477</td>\n",
       "      <td>0.994032</td>\n",
       "      <td>0.031376</td>\n",
       "      <td>2.28447</td>\n",
       "    </tr>\n",
       "    <tr>\n",
       "      <th>8</th>\n",
       "      <td>8</td>\n",
       "      <td>-0.104477</td>\n",
       "      <td>0.994032</td>\n",
       "      <td>0.031376</td>\n",
       "      <td>2.28447</td>\n",
       "    </tr>\n",
       "    <tr>\n",
       "      <th>9</th>\n",
       "      <td>9</td>\n",
       "      <td>-0.308865</td>\n",
       "      <td>0.950588</td>\n",
       "      <td>0.031376</td>\n",
       "      <td>2.28447</td>\n",
       "    </tr>\n",
       "  </tbody>\n",
       "</table>\n",
       "</div>"
      ],
      "text/plain": [
       "   inclination         x         y         z  radiation_intensity\n",
       "0            0  0.999508  0.000000  0.031376              2.28447\n",
       "1            1  0.977666  0.207809  0.031376              2.28447\n",
       "2            2  0.913096  0.406536  0.031376              2.28447\n",
       "3            3  0.808619  0.587496  0.031376              2.28447\n",
       "4            4  0.668801  0.742779  0.031376              2.28447\n",
       "5            5  0.499754  0.865599  0.031376              2.28447\n",
       "6            6  0.308865  0.950588  0.031376              2.28447\n",
       "7            7  0.104477  0.994032  0.031376              2.28447\n",
       "8            8 -0.104477  0.994032  0.031376              2.28447\n",
       "9            9 -0.308865  0.950588  0.031376              2.28447"
      ]
     },
     "execution_count": 79,
     "metadata": {},
     "output_type": "execute_result"
    }
   ],
   "source": [
    "# Check that the data looks somewhat reasonable\n",
    "df.head(10)"
   ]
  },
  {
   "cell_type": "code",
   "execution_count": 80,
   "metadata": {},
   "outputs": [
    {
     "data": {
      "image/png": "[encoded data removed]",
      "text/plain": [
       "<Figure size 432x288 with 2 Axes>"
      ]
     },
     "metadata": {
      "needs_background": "light"
     },
     "output_type": "display_data"
    }
   ],
   "source": [
    "# Plot\n",
    "fig = plt.figure()\n",
    "ax = fig.gca(projection='3d')\n",
    "ax.plot_trisurf(df['x'], df['y'], df['z'], cmap=plt.cm.viridis, linewidth=0.01)\n",
    "\n",
    "# Add a color bar which maps values to colors.\n",
    "surf=ax.plot_trisurf(df['y'], df['x'], df['z'], cmap=plt.cm.viridis, linewidth=0.01)\n",
    "fig.colorbar( surf, shrink=0.5, aspect=5)\n",
    "\n",
    "plt.show()\n"
   ]
  },
  {
   "cell_type": "code",
   "execution_count": 81,
   "metadata": {},
   "outputs": [],
   "source": [
    "# Well this looks okay but why don't we give ploty a go???\n",
    "import plotly.graph_objects as go"
   ]
  },
  {
   "cell_type": "code",
   "execution_count": 58,
   "metadata": {},
   "outputs": [
    {
     "name": "stdout",
     "output_type": "stream",
     "text": [
      "[[ 0.000000e+00  2.780985e+01  4.961936e+01  8.308067e+01  1.166632e+02\n",
      "   1.304140e+02  1.507206e+02  2.201871e+02  1.561536e+02  1.486416e+02\n",
      "   2.037845e+02  2.060386e+02  1.071618e+02  6.836975e+01  4.533590e+01\n",
      "   4.996142e+01  2.189279e+01  1.702552e+01  1.174317e+01  1.475226e+01\n",
      "   1.366710e+01  5.677561e+00  3.312340e+00  1.156517e+00 -1.476620e-01]\n",
      " [ 1.000000e+00  2.771966e+01  4.855022e+01  6.521374e+01  9.527666e+01\n",
      "   1.169964e+02  1.339056e+02  1.523412e+02  1.519340e+02  1.601139e+02\n",
      "   1.795327e+02  1.476184e+02  1.703943e+02  1.218194e+02  5.258537e+01\n",
      "   3.308871e+01  3.840972e+01  4.424843e+01  6.957860e+01  4.019351e+00\n",
      "   3.050024e+00  3.039719e+00  2.996142e+00  2.967954e+00  1.999594e+00]\n",
      " [ 2.000000e+00  3.042670e+01  3.347752e+01  4.480953e+01  6.247495e+01\n",
      "   7.743523e+01  1.042153e+02  1.027393e+02  1.370004e+02  1.860706e+02\n",
      "   2.193173e+02  1.817615e+02  1.209154e+02  1.431835e+02  8.240501e+01\n",
      "   4.847132e+01  7.471461e+01  6.009090e+01  7.073525e+00  6.089851e+00\n",
      "   6.537450e+00  6.666096e+00  7.306965e+00  5.736840e+00  3.625628e+00]\n",
      " [ 3.000000e+00  1.666549e+01  3.010860e+01  3.996952e+01  4.412225e+01\n",
      "   5.957512e+01  7.756929e+01  1.068925e+02  1.665539e+02  1.752381e+02\n",
      "   1.852815e+02  1.545056e+02  8.304330e+01  6.261732e+01  6.233167e+01\n",
      "   6.055916e+01  5.592124e+01  1.517284e+01  8.248324e+00  3.668087e+01\n",
      "   6.193413e+01  2.026867e+01  6.858819e+01  4.649812e+01  2.360095e-01]\n",
      " [ 4.000000e+00  8.815617e+00  1.835160e+01  8.658275e+00  2.758590e+01\n",
      "   4.862691e+01  6.018013e+01  9.132860e+01  1.457109e+02  1.160653e+02\n",
      "   1.062662e+02  6.869447e+01  5.310596e+01  3.792797e+01  4.795942e+01\n",
      "   4.742691e+01  6.920731e+01  4.495468e+01  2.917197e+01  1.791674e+01\n",
      "   1.625515e+01  1.465559e+01  1.726048e+01  3.122245e+01  4.671704e+01]\n",
      " [ 5.000000e+00  6.628881e+00  1.041339e+01  2.481939e+01  2.608952e+01\n",
      "   3.016050e+01  5.230802e+01  6.471007e+01  7.630823e+01  8.463686e+01\n",
      "   9.943240e+01  6.252132e+01  4.681647e+01  5.576606e+01  8.240990e+01\n",
      "   1.402647e+02  8.126501e+01  5.645756e+01  3.042164e+01  1.728782e+01\n",
      "   8.302431e+00  2.981626e+00  2.698536e+00  5.886086e+00  5.268358e+00]\n",
      " [ 6.000000e+00  2.183975e+01  6.639270e+00  1.897085e+01  3.289204e+01\n",
      "   4.315014e+01  6.286014e+01  1.046657e+02  1.302294e+02  1.148494e+02\n",
      "   1.069873e+02  6.189647e+01  5.555682e+01  8.680986e+01  8.927802e+01\n",
      "   1.224221e+02  1.239698e+02  1.090952e+02  9.841956e+01  7.761374e+01\n",
      "   3.249031e+01  1.467344e+01  7.370775e+00  3.711011e-02  6.423392e-01]\n",
      " [ 7.000000e+00  5.334303e+01  2.679797e+01  6.639270e+00  1.088787e+01\n",
      "   1.720440e+01  5.618116e+01  7.970141e+01  9.084530e+01  9.827675e+01\n",
      "   8.087243e+01  7.479310e+01  7.554661e+01  7.343730e+01  7.411694e+01\n",
      "   6.817490e+01  4.624076e+01  3.993857e+01  3.121653e+01  3.688335e+01\n",
      "   4.002525e+01  1.174297e+02  1.270328e+01  1.729771e+00  0.000000e+00]\n",
      " [ 8.000000e+00  2.566785e+01  6.305717e+01  2.214140e+01  1.707400e+01\n",
      "   4.174483e+01  6.027227e+01  8.142432e+01  1.144440e+02  1.023234e+02\n",
      "   1.017878e+02  1.110310e+02  1.192309e+02  1.140777e+02  1.105296e+02\n",
      "   5.919355e+01  4.247175e+01  1.463598e+01  6.944074e+00  6.944075e+00\n",
      "   2.774936e+01  0.000000e+00  0.000000e+00  9.449376e-02  7.732264e-02]\n",
      " [ 9.000000e+00  1.282700e+01  6.920554e+01  4.676293e+01  1.396517e+01\n",
      "   3.388744e+01  6.182613e+01  8.474799e+01  1.211220e+02  1.452741e+02\n",
      "   1.531797e+02  2.047860e+02  2.279242e+02  2.363038e+02  2.283655e+02\n",
      "   7.934425e+01  2.593483e+01  6.944074e+00  6.944074e+00  6.944075e+00\n",
      "   7.553681e+00  0.000000e+00  0.000000e+00  0.000000e+00  0.000000e+00]\n",
      " [ 1.000000e+01  0.000000e+00  6.866396e+01  5.904350e+01  3.335762e+01\n",
      "   4.745282e+01  5.783550e+01  7.891689e+01  1.078275e+02  1.680053e+02\n",
      "   1.309597e+02  2.125541e+02  1.658122e+02  2.102429e+02  1.811713e+02\n",
      "   1.897617e+02  1.373378e+02  8.465395e+01  8.677168e+00  6.956576e+00\n",
      "   8.468093e+00  0.000000e+00  0.000000e+00  0.000000e+00  0.000000e+00]\n",
      " [ 1.100000e+01  0.000000e+00  9.517499e+01  8.003818e+01  5.989862e+01\n",
      "   3.958476e+01  5.028058e+01  6.381641e+01  8.061302e+01  6.637824e+01\n",
      "   1.987651e+02  2.443467e+02  2.942474e+02  2.643517e+02  1.764082e+02\n",
      "   6.021857e+01  7.741475e+01  5.316981e+01  5.616393e+01  6.949235e+00\n",
      "   7.531059e+00  3.780177e+00  0.000000e+00  0.000000e+00  0.000000e+00]\n",
      " [ 1.200000e+01  0.000000e+00  1.349879e+02  1.303696e+02  9.686325e+01\n",
      "   7.570494e+01  5.886466e+01  5.720374e+01  5.518837e+01  7.812800e+01\n",
      "   1.085582e+02  1.543774e+02  3.191686e+02  3.728826e+02  2.754655e+02\n",
      "   1.302632e+02  5.493822e+01  2.549719e+01  8.047439e+00  8.084393e+00\n",
      "   5.115252e+00  5.678269e+00  0.000000e+00  0.000000e+00  0.000000e+00]\n",
      " [ 1.300000e+01  0.000000e+00  4.808919e+01  1.425558e+02  1.403777e+02\n",
      "   1.547261e+02  8.793610e+01  5.811092e+01  5.283869e+01  6.714822e+01\n",
      "   8.366798e+01  1.189242e+02  1.500681e+02  2.729709e+02  3.411366e+02\n",
      "   2.386640e+02  1.902000e+02  1.168943e+02  9.148672e+01  1.401570e+01\n",
      "   4.229277e+01  5.115252e+00  0.000000e+00  0.000000e+00  0.000000e+00]\n",
      " [ 1.400000e+01  0.000000e+00  5.419410e+01  1.463839e+02  9.948143e+01\n",
      "   9.619411e+01  1.029473e+02  7.614089e+01  5.778440e+01  4.704020e+01\n",
      "   6.436799e+01  8.423767e+01  1.627181e+02  1.213275e+02  2.131646e+02\n",
      "   3.284820e+02  2.854489e+02  2.838319e+02  2.128150e+02  1.645490e+02\n",
      "   9.229631e+01  7.244015e+00  1.167000e+00  0.000000e+00  0.000000e+00]\n",
      " [ 1.500000e+01  0.000000e+00  6.919659e+00  1.951709e+02  1.325253e+02\n",
      "   1.352341e+02  8.985069e+01  8.945549e+01  6.029967e+01  5.033806e+01\n",
      "   3.917583e+01  5.906854e+01  7.452159e+01  8.493402e+01  1.871219e+02\n",
      "   1.239673e+02  1.037027e+02  1.289860e+02  1.651283e+02  2.497054e+02\n",
      "   9.539966e+01  1.000284e+01  2.392550e+00  0.000000e+00  0.000000e+00]\n",
      " [ 1.600000e+01  0.000000e+00  2.173871e+01  1.231339e+02  1.767414e+02\n",
      "   1.582698e+02  1.372350e+02  1.053089e+02  8.663255e+01  5.311591e+01\n",
      "   2.903865e+01  3.040539e+01  3.904902e+01  4.923405e+01  6.327853e+01\n",
      "   1.114215e+02  1.011956e+02  4.000962e+01  5.984565e+01  7.451253e+01\n",
      "   1.706316e+01  2.435141e+00  2.287471e+00 -3.636982e-04  0.000000e+00]\n",
      " [ 1.700000e+01  0.000000e+00  0.000000e+00  6.204672e+01  1.363122e+02\n",
      "   2.017952e+02  1.681343e+02  9.520460e+01  5.890624e+01  4.694091e+01\n",
      "   4.927053e+01  3.710416e+01  1.797011e+01  3.093697e+01  3.339257e+01\n",
      "   4.403077e+01  5.564542e+01  7.822423e+01  1.442782e+01  9.954997e+00\n",
      "   7.768213e+00  1.302540e+01  2.173166e+01  2.156372e+00  5.317867e-01]\n",
      " [ 1.800000e+01  0.000000e+00  0.000000e+00  7.962993e+01  1.396978e+02\n",
      "   1.731670e+02  1.928718e+02  1.963499e+02  1.446611e+02  1.065424e+02\n",
      "   5.716653e+01  4.116107e+01  3.212764e+01  1.385660e+01  1.091772e+01\n",
      "   1.207177e+01  2.238254e+01  2.472105e+01  6.803666e+00  4.200841e+00\n",
      "   1.646857e+01  1.570744e+01  3.396221e+01  7.575688e+00 -4.880907e-02]\n",
      " [ 1.900000e+01  0.000000e+00  0.000000e+00  3.326640e+01  5.753643e+01\n",
      "   1.672241e+02  1.964833e+02  1.947966e+02  1.821884e+02  1.196961e+02\n",
      "   7.302113e+01  4.836549e+01  3.374652e+01  2.623790e+01  1.635780e+01\n",
      "   6.811293e+00  6.639270e+00  6.639271e+00  8.468093e+00  6.194273e+00\n",
      "   3.591233e+00  3.814860e+00  8.600739e+00  5.218890e+00  0.000000e+00]\n",
      " [ 2.000000e+01  0.000000e+00  0.000000e+00  2.977937e+01  5.497282e+01\n",
      "   1.447995e+02  2.074904e+02  1.653432e+02  1.714047e+02  1.749216e+02\n",
      "   1.002733e+02  6.146441e+01  5.019171e+01  2.608209e+01  1.718218e+01\n",
      "   8.468093e+00  6.639270e+00  6.334467e+00  6.334467e+00  5.666687e+00\n",
      "   4.272203e+00  0.000000e+00  0.000000e+00  0.000000e+00  0.000000e+00]\n",
      " [ 2.100000e+01  0.000000e+00  0.000000e+00  3.140900e+01  1.327418e+02\n",
      "   1.855796e+02  1.218299e+02  1.853841e+02  1.606566e+02  1.161478e+02\n",
      "   1.181078e+02  1.417946e+02  6.556351e+01  4.884066e+01  2.313864e+01\n",
      "   1.812932e+01  1.028531e+01  6.029663e+00  6.044627e+00  5.694764e+00\n",
      "   3.739085e+00  3.896037e+00  0.000000e+00  0.000000e+00  0.000000e+00]\n",
      " [ 2.200000e+01  0.000000e+00  0.000000e+00  1.958994e+01  4.230355e+01\n",
      "   9.626777e+01  1.871207e+02  1.796626e+02  2.213898e+02  1.542617e+02\n",
      "   1.421604e+02  1.485737e+02  6.717937e+01  4.069044e+01  3.974512e+01\n",
      "   2.610166e+01  1.448469e+01  8.658730e+00  3.896037e+00  3.571392e+00\n",
      "   3.896037e+00  3.896037e+00  3.896037e+00  1.077756e+00  0.000000e+00]\n",
      " [ 2.300000e+01  1.229679e-03  3.008948e+00  5.909858e+00  3.350574e+01\n",
      "   1.043341e+02  1.522165e+02  1.981988e+02  1.918410e+02  2.287349e+02\n",
      "   1.681041e+02  1.442759e+02  1.107436e+02  5.765214e+01  4.263504e+01\n",
      "   2.791891e+01  1.541052e+01  8.056102e+00  3.902830e+00  3.879774e+00\n",
      "   3.936718e+00  3.968634e+00  1.236256e-01  3.985531e+00 -1.835741e-01]\n",
      " [ 2.400000e+01  0.000000e+00  5.626141e+00  7.676256e+00  6.316226e+01\n",
      "   4.599762e+01  7.956688e+01  2.273110e+02  2.039287e+02  1.725618e+02\n",
      "   1.771462e+02  1.404554e+02  1.239905e+02  1.103460e+02  6.512319e+01\n",
      "   3.431887e+01  2.452780e+01  9.561069e+00  3.334991e+00  5.590495e+00\n",
      "   5.487353e+00  5.909499e+00  5.868994e+00  5.833817e+00  3.568177e+00]]\n"
     ]
    },
    {
     "data": {
      "application/vnd.plotly.v1+json": {
       "config": {
        "plotlyServerURL": "https://plot.ly"
       },
       "data": [
        {
         "type": "surface",
         "x": [
          0,
          0.041666666666666664,
          0.08333333333333333,
          0.125,
          0.16666666666666666,
          0.20833333333333331,
          0.25,
          0.29166666666666663,
          0.3333333333333333,
          0.375,
          0.41666666666666663,
          0.4583333333333333,
          0.5,
          0.5416666666666666,
          0.5833333333333333,
          0.625,
          0.6666666666666666,
          0.7083333333333333,
          0.75,
          0.7916666666666666,
          0.8333333333333333,
          0.875,
          0.9166666666666666,
          0.9583333333333333,
          1
         ],
         "y": [
          0,
          0.041666666666666664,
          0.08333333333333333,
          0.125,
          0.16666666666666666,
          0.20833333333333331,
          0.25,
          0.29166666666666663,
          0.3333333333333333,
          0.375,
          0.41666666666666663,
          0.4583333333333333,
          0.5,
          0.5416666666666666,
          0.5833333333333333,
          0.625,
          0.6666666666666666,
          0.7083333333333333,
          0.75,
          0.7916666666666666,
          0.8333333333333333,
          0.875,
          0.9166666666666666,
          0.9583333333333333,
          1
         ],
         "z": [
          [
           0,
           27.80985,
           49.61936,
           83.08067,
           116.6632,
           130.414,
           150.7206,
           220.1871,
           156.1536,
           148.6416,
           203.7845,
           206.0386,
           107.1618,
           68.36975,
           45.3359,
           49.961420000000004,
           21.892789999999998,
           17.02552,
           11.74317,
           14.75226,
           13.6671,
           5.677561,
           3.3123400000000003,
           1.156517,
           -0.147662
          ],
          [
           1,
           27.719659999999998,
           48.55022,
           65.21374,
           95.27665999999999,
           116.9964,
           133.9056,
           152.3412,
           151.934,
           160.1139,
           179.5327,
           147.6184,
           170.3943,
           121.8194,
           52.58537,
           33.08871,
           38.40972,
           44.24843,
           69.5786,
           4.019351,
           3.050024,
           3.039719,
           2.996142,
           2.967954,
           1.9995939999999999
          ],
          [
           2,
           30.4267,
           33.47752,
           44.80953,
           62.47495,
           77.43523,
           104.2153,
           102.7393,
           137.0004,
           186.0706,
           219.3173,
           181.7615,
           120.9154,
           143.1835,
           82.40501,
           48.47132,
           74.71461,
           60.0909,
           7.073525,
           6.089851,
           6.53745,
           6.6660960000000005,
           7.306964999999999,
           5.73684,
           3.625628
          ],
          [
           3,
           16.66549,
           30.1086,
           39.96952,
           44.12225,
           59.57512,
           77.56929000000001,
           106.8925,
           166.5539,
           175.2381,
           185.2815,
           154.5056,
           83.0433,
           62.61731999999999,
           62.331669999999995,
           60.55916,
           55.921240000000004,
           15.172839999999999,
           8.248324,
           36.68087,
           61.93413,
           20.26867,
           68.58819,
           46.49812,
           0.23600949999999998
          ],
          [
           4,
           8.815617,
           18.3516,
           8.658275,
           27.5859,
           48.626909999999995,
           60.180130000000005,
           91.3286,
           145.7109,
           116.0653,
           106.2662,
           68.69447,
           53.105959999999996,
           37.92797,
           47.95942,
           47.42691,
           69.20730999999999,
           44.954679999999996,
           29.17197,
           17.91674,
           16.25515,
           14.65559,
           17.260479999999998,
           31.22245,
           46.717040000000004
          ],
          [
           5,
           6.628881,
           10.41339,
           24.81939,
           26.08952,
           30.1605,
           52.30802,
           64.71007,
           76.30823000000001,
           84.63686,
           99.4324,
           62.521319999999996,
           46.81647,
           55.766059999999996,
           82.4099,
           140.2647,
           81.26501,
           56.45756,
           30.421640000000004,
           17.28782,
           8.302431,
           2.981626,
           2.6985360000000003,
           5.886086,
           5.268358
          ],
          [
           6,
           21.83975,
           6.63927,
           18.97085,
           32.89204,
           43.15014,
           62.86014,
           104.6657,
           130.2294,
           114.8494,
           106.9873,
           61.896469999999994,
           55.556819999999995,
           86.80986,
           89.27802,
           122.4221,
           123.9698,
           109.0952,
           98.41956,
           77.61374,
           32.49031,
           14.67344,
           7.370775,
           0.03711011,
           0.6423392
          ],
          [
           7,
           53.343030000000006,
           26.79797,
           6.63927,
           10.88787,
           17.2044,
           56.18116,
           79.70141,
           90.8453,
           98.27675,
           80.87243000000001,
           74.7931,
           75.54661,
           73.4373,
           74.11694,
           68.1749,
           46.240759999999995,
           39.93857,
           31.21653,
           36.88335,
           40.02525,
           117.4297,
           12.70328,
           1.729771,
           0
          ],
          [
           8,
           25.66785,
           63.05716999999999,
           22.1414,
           17.074,
           41.74483,
           60.27226999999999,
           81.42432,
           114.444,
           102.3234,
           101.7878,
           111.031,
           119.2309,
           114.0777,
           110.5296,
           59.19355,
           42.47175,
           14.635979999999998,
           6.9440740000000005,
           6.944075,
           27.74936,
           0,
           0,
           0.09449376,
           0.07732264
          ],
          [
           9,
           12.827,
           69.20554,
           46.76293,
           13.96517,
           33.887440000000005,
           61.826130000000006,
           84.74799,
           121.12200000000001,
           145.2741,
           153.1797,
           204.78599999999997,
           227.9242,
           236.3038,
           228.3655,
           79.34425,
           25.934829999999998,
           6.9440740000000005,
           6.9440740000000005,
           6.944075,
           7.553681,
           0,
           0,
           0,
           0
          ],
          [
           10,
           0,
           68.66396,
           59.0435,
           33.357620000000004,
           47.45282,
           57.8355,
           78.91689000000001,
           107.8275,
           168.0053,
           130.9597,
           212.5541,
           165.8122,
           210.2429,
           181.1713,
           189.7617,
           137.3378,
           84.65395,
           8.677168,
           6.956575999999999,
           8.468093,
           0,
           0,
           0,
           0
          ],
          [
           11,
           0,
           95.17499000000001,
           80.03818000000001,
           59.898619999999994,
           39.584759999999996,
           50.28058,
           63.81641,
           80.61301999999999,
           66.37824,
           198.7651,
           244.3467,
           294.2474,
           264.3517,
           176.4082,
           60.21856999999999,
           77.41475,
           53.16981,
           56.16393000000001,
           6.949235000000001,
           7.531059,
           3.7801769999999997,
           0,
           0,
           0
          ],
          [
           12,
           0,
           134.9879,
           130.3696,
           96.86325,
           75.70494000000001,
           58.86466,
           57.20374,
           55.18836999999999,
           78.128,
           108.5582,
           154.3774,
           319.1686,
           372.8826,
           275.4655,
           130.2632,
           54.938219999999994,
           25.49719,
           8.047439,
           8.084392999999999,
           5.115252,
           5.678269,
           0,
           0,
           0
          ],
          [
           13,
           0,
           48.08919,
           142.5558,
           140.3777,
           154.7261,
           87.9361,
           58.11091999999999,
           52.83869,
           67.14822,
           83.66798,
           118.9242,
           150.0681,
           272.9709,
           341.1366,
           238.66400000000002,
           190.2,
           116.8943,
           91.48671999999999,
           14.0157,
           42.292770000000004,
           5.115252,
           0,
           0,
           0
          ],
          [
           14,
           0,
           54.1941,
           146.3839,
           99.48143,
           96.19411,
           102.9473,
           76.14089,
           57.7844,
           47.0402,
           64.36799,
           84.23767,
           162.7181,
           121.3275,
           213.1646,
           328.48199999999997,
           285.4489,
           283.8319,
           212.815,
           164.549,
           92.29630999999999,
           7.244014999999999,
           1.167,
           0,
           0
          ],
          [
           15,
           0,
           6.919658999999999,
           195.1709,
           132.5253,
           135.2341,
           89.85069,
           89.45549,
           60.29966999999999,
           50.33806,
           39.17583,
           59.068540000000006,
           74.52159,
           84.93401999999999,
           187.1219,
           123.9673,
           103.7027,
           128.986,
           165.1283,
           249.7054,
           95.39966,
           10.002839999999999,
           2.39255,
           0,
           0
          ],
          [
           16,
           0,
           21.73871,
           123.1339,
           176.7414,
           158.2698,
           137.235,
           105.3089,
           86.63255,
           53.11591,
           29.03865,
           30.40539,
           39.04902,
           49.23405,
           63.27853,
           111.4215,
           101.1956,
           40.00962,
           59.84565,
           74.51253,
           17.06316,
           2.435141,
           2.287471,
           -0.0003636982,
           0
          ],
          [
           17,
           0,
           0,
           62.04671999999999,
           136.3122,
           201.7952,
           168.1343,
           95.2046,
           58.906240000000004,
           46.940909999999995,
           49.27053,
           37.10416,
           17.970110000000002,
           30.936970000000002,
           33.39257,
           44.030770000000004,
           55.645419999999994,
           78.22423,
           14.42782,
           9.954997,
           7.768213,
           13.0254,
           21.73166,
           2.156372,
           0.5317867
          ],
          [
           18,
           0,
           0,
           79.62993,
           139.6978,
           173.167,
           192.8718,
           196.3499,
           144.6611,
           106.5424,
           57.16653,
           41.16107,
           32.12764,
           13.8566,
           10.91772,
           12.071769999999999,
           22.38254,
           24.72105,
           6.803666000000001,
           4.2008410000000005,
           16.46857,
           15.70744,
           33.96221,
           7.575688,
           -0.04880907
          ],
          [
           19,
           0,
           0,
           33.2664,
           57.53643,
           167.2241,
           196.4833,
           194.7966,
           182.1884,
           119.6961,
           73.02113,
           48.36549,
           33.746520000000004,
           26.2379,
           16.3578,
           6.811292999999999,
           6.63927,
           6.639271000000001,
           8.468093,
           6.194273,
           3.5912330000000003,
           3.81486,
           8.600739,
           5.21889,
           0
          ],
          [
           20,
           0,
           0,
           29.77937,
           54.97282,
           144.7995,
           207.4904,
           165.3432,
           171.4047,
           174.9216,
           100.2733,
           61.46441,
           50.19171,
           26.08209,
           17.18218,
           8.468093,
           6.63927,
           6.334467,
           6.334467,
           5.6666870000000005,
           4.272203,
           0,
           0,
           0,
           0
          ],
          [
           21,
           0,
           0,
           31.409000000000002,
           132.7418,
           185.5796,
           121.8299,
           185.3841,
           160.6566,
           116.1478,
           118.1078,
           141.7946,
           65.56351,
           48.84066,
           23.13864,
           18.12932,
           10.28531,
           6.029662999999999,
           6.044626999999999,
           5.694764,
           3.7390849999999998,
           3.896037,
           0,
           0,
           0
          ],
          [
           22,
           0,
           0,
           19.58994,
           42.30355,
           96.26777,
           187.1207,
           179.6626,
           221.3898,
           154.2617,
           142.1604,
           148.5737,
           67.17936999999999,
           40.69044,
           39.74512,
           26.10166,
           14.484689999999999,
           8.65873,
           3.896037,
           3.571392,
           3.896037,
           3.896037,
           3.896037,
           1.077756,
           0
          ],
          [
           23,
           0.001229679,
           3.008948,
           5.909858,
           33.50574,
           104.3341,
           152.2165,
           198.1988,
           191.84099999999998,
           228.7349,
           168.1041,
           144.2759,
           110.7436,
           57.65214,
           42.635040000000004,
           27.918909999999997,
           15.410520000000002,
           8.056102000000001,
           3.9028300000000002,
           3.879774,
           3.936718,
           3.9686339999999998,
           0.1236256,
           3.985531,
           -0.1835741
          ],
          [
           24,
           0,
           5.6261410000000005,
           7.6762559999999995,
           63.162259999999996,
           45.99762,
           79.56688,
           227.31099999999998,
           203.9287,
           172.5618,
           177.1462,
           140.4554,
           123.9905,
           110.346,
           65.12319000000001,
           34.318870000000004,
           24.5278,
           9.561069,
           3.3349910000000005,
           5.590495,
           5.487353,
           5.909498999999999,
           5.868994,
           5.833817,
           3.5681769999999995
          ]
         ]
        }
       ],
       "layout": {
        "autosize": false,
        "height": 500,
        "margin": {
         "b": 65,
         "l": 65,
         "r": 50,
         "t": 90
        },
        "scene": {
         "aspectmode": "auto",
         "aspectratio": {
          "x": 1,
          "y": 1,
          "z": 1
         }
        },
        "template": {
         "data": {
          "bar": [
           {
            "error_x": {
             "color": "#2a3f5f"
            },
            "error_y": {
             "color": "#2a3f5f"
            },
            "marker": {
             "line": {
              "color": "#E5ECF6",
              "width": 0.5
             }
            },
            "type": "bar"
           }
          ],
          "barpolar": [
           {
            "marker": {
             "line": {
              "color": "#E5ECF6",
              "width": 0.5
             }
            },
            "type": "barpolar"
           }
          ],
          "carpet": [
           {
            "aaxis": {
             "endlinecolor": "#2a3f5f",
             "gridcolor": "white",
             "linecolor": "white",
             "minorgridcolor": "white",
             "startlinecolor": "#2a3f5f"
            },
            "baxis": {
             "endlinecolor": "#2a3f5f",
             "gridcolor": "white",
             "linecolor": "white",
             "minorgridcolor": "white",
             "startlinecolor": "#2a3f5f"
            },
            "type": "carpet"
           }
          ],
          "choropleth": [
           {
            "colorbar": {
             "outlinewidth": 0,
             "ticks": ""
            },
            "type": "choropleth"
           }
          ],
          "contour": [
           {
            "colorbar": {
             "outlinewidth": 0,
             "ticks": ""
            },
            "colorscale": [
             [
              0,
              "#0d0887"
             ],
             [
              0.1111111111111111,
              "#46039f"
             ],
             [
              0.2222222222222222,
              "#7201a8"
             ],
             [
              0.3333333333333333,
              "#9c179e"
             ],
             [
              0.4444444444444444,
              "#bd3786"
             ],
             [
              0.5555555555555556,
              "#d8576b"
             ],
             [
              0.6666666666666666,
              "#ed7953"
             ],
             [
              0.7777777777777778,
              "#fb9f3a"
             ],
             [
              0.8888888888888888,
              "#fdca26"
             ],
             [
              1,
              "#f0f921"
             ]
            ],
            "type": "contour"
           }
          ],
          "contourcarpet": [
           {
            "colorbar": {
             "outlinewidth": 0,
             "ticks": ""
            },
            "type": "contourcarpet"
           }
          ],
          "heatmap": [
           {
            "colorbar": {
             "outlinewidth": 0,
             "ticks": ""
            },
            "colorscale": [
             [
              0,
              "#0d0887"
             ],
             [
              0.1111111111111111,
              "#46039f"
             ],
             [
              0.2222222222222222,
              "#7201a8"
             ],
             [
              0.3333333333333333,
              "#9c179e"
             ],
             [
              0.4444444444444444,
              "#bd3786"
             ],
             [
              0.5555555555555556,
              "#d8576b"
             ],
             [
              0.6666666666666666,
              "#ed7953"
             ],
             [
              0.7777777777777778,
              "#fb9f3a"
             ],
             [
              0.8888888888888888,
              "#fdca26"
             ],
             [
              1,
              "#f0f921"
             ]
            ],
            "type": "heatmap"
           }
          ],
          "heatmapgl": [
           {
            "colorbar": {
             "outlinewidth": 0,
             "ticks": ""
            },
            "colorscale": [
             [
              0,
              "#0d0887"
             ],
             [
              0.1111111111111111,
              "#46039f"
             ],
             [
              0.2222222222222222,
              "#7201a8"
             ],
             [
              0.3333333333333333,
              "#9c179e"
             ],
             [
              0.4444444444444444,
              "#bd3786"
             ],
             [
              0.5555555555555556,
              "#d8576b"
             ],
             [
              0.6666666666666666,
              "#ed7953"
             ],
             [
              0.7777777777777778,
              "#fb9f3a"
             ],
             [
              0.8888888888888888,
              "#fdca26"
             ],
             [
              1,
              "#f0f921"
             ]
            ],
            "type": "heatmapgl"
           }
          ],
          "histogram": [
           {
            "marker": {
             "colorbar": {
              "outlinewidth": 0,
              "ticks": ""
             }
            },
            "type": "histogram"
           }
          ],
          "histogram2d": [
           {
            "colorbar": {
             "outlinewidth": 0,
             "ticks": ""
            },
            "colorscale": [
             [
              0,
              "#0d0887"
             ],
             [
              0.1111111111111111,
              "#46039f"
             ],
             [
              0.2222222222222222,
              "#7201a8"
             ],
             [
              0.3333333333333333,
              "#9c179e"
             ],
             [
              0.4444444444444444,
              "#bd3786"
             ],
             [
              0.5555555555555556,
              "#d8576b"
             ],
             [
              0.6666666666666666,
              "#ed7953"
             ],
             [
              0.7777777777777778,
              "#fb9f3a"
             ],
             [
              0.8888888888888888,
              "#fdca26"
             ],
             [
              1,
              "#f0f921"
             ]
            ],
            "type": "histogram2d"
           }
          ],
          "histogram2dcontour": [
           {
            "colorbar": {
             "outlinewidth": 0,
             "ticks": ""
            },
            "colorscale": [
             [
              0,
              "#0d0887"
             ],
             [
              0.1111111111111111,
              "#46039f"
             ],
             [
              0.2222222222222222,
              "#7201a8"
             ],
             [
              0.3333333333333333,
              "#9c179e"
             ],
             [
              0.4444444444444444,
              "#bd3786"
             ],
             [
              0.5555555555555556,
              "#d8576b"
             ],
             [
              0.6666666666666666,
              "#ed7953"
             ],
             [
              0.7777777777777778,
              "#fb9f3a"
             ],
             [
              0.8888888888888888,
              "#fdca26"
             ],
             [
              1,
              "#f0f921"
             ]
            ],
            "type": "histogram2dcontour"
           }
          ],
          "mesh3d": [
           {
            "colorbar": {
             "outlinewidth": 0,
             "ticks": ""
            },
            "type": "mesh3d"
           }
          ],
          "parcoords": [
           {
            "line": {
             "colorbar": {
              "outlinewidth": 0,
              "ticks": ""
             }
            },
            "type": "parcoords"
           }
          ],
          "pie": [
           {
            "automargin": true,
            "type": "pie"
           }
          ],
          "scatter": [
           {
            "marker": {
             "colorbar": {
              "outlinewidth": 0,
              "ticks": ""
             }
            },
            "type": "scatter"
           }
          ],
          "scatter3d": [
           {
            "line": {
             "colorbar": {
              "outlinewidth": 0,
              "ticks": ""
             }
            },
            "marker": {
             "colorbar": {
              "outlinewidth": 0,
              "ticks": ""
             }
            },
            "type": "scatter3d"
           }
          ],
          "scattercarpet": [
           {
            "marker": {
             "colorbar": {
              "outlinewidth": 0,
              "ticks": ""
             }
            },
            "type": "scattercarpet"
           }
          ],
          "scattergeo": [
           {
            "marker": {
             "colorbar": {
              "outlinewidth": 0,
              "ticks": ""
             }
            },
            "type": "scattergeo"
           }
          ],
          "scattergl": [
           {
            "marker": {
             "colorbar": {
              "outlinewidth": 0,
              "ticks": ""
             }
            },
            "type": "scattergl"
           }
          ],
          "scattermapbox": [
           {
            "marker": {
             "colorbar": {
              "outlinewidth": 0,
              "ticks": ""
             }
            },
            "type": "scattermapbox"
           }
          ],
          "scatterpolar": [
           {
            "marker": {
             "colorbar": {
              "outlinewidth": 0,
              "ticks": ""
             }
            },
            "type": "scatterpolar"
           }
          ],
          "scatterpolargl": [
           {
            "marker": {
             "colorbar": {
              "outlinewidth": 0,
              "ticks": ""
             }
            },
            "type": "scatterpolargl"
           }
          ],
          "scatterternary": [
           {
            "marker": {
             "colorbar": {
              "outlinewidth": 0,
              "ticks": ""
             }
            },
            "type": "scatterternary"
           }
          ],
          "surface": [
           {
            "colorbar": {
             "outlinewidth": 0,
             "ticks": ""
            },
            "colorscale": [
             [
              0,
              "#0d0887"
             ],
             [
              0.1111111111111111,
              "#46039f"
             ],
             [
              0.2222222222222222,
              "#7201a8"
             ],
             [
              0.3333333333333333,
              "#9c179e"
             ],
             [
              0.4444444444444444,
              "#bd3786"
             ],
             [
              0.5555555555555556,
              "#d8576b"
             ],
             [
              0.6666666666666666,
              "#ed7953"
             ],
             [
              0.7777777777777778,
              "#fb9f3a"
             ],
             [
              0.8888888888888888,
              "#fdca26"
             ],
             [
              1,
              "#f0f921"
             ]
            ],
            "type": "surface"
           }
          ],
          "table": [
           {
            "cells": {
             "fill": {
              "color": "#EBF0F8"
             },
             "line": {
              "color": "white"
             }
            },
            "header": {
             "fill": {
              "color": "#C8D4E3"
             },
             "line": {
              "color": "white"
             }
            },
            "type": "table"
           }
          ]
         },
         "layout": {
          "annotationdefaults": {
           "arrowcolor": "#2a3f5f",
           "arrowhead": 0,
           "arrowwidth": 1
          },
          "coloraxis": {
           "colorbar": {
            "outlinewidth": 0,
            "ticks": ""
           }
          },
          "colorscale": {
           "diverging": [
            [
             0,
             "#8e0152"
            ],
            [
             0.1,
             "#c51b7d"
            ],
            [
             0.2,
             "#de77ae"
            ],
            [
             0.3,
             "#f1b6da"
            ],
            [
             0.4,
             "#fde0ef"
            ],
            [
             0.5,
             "#f7f7f7"
            ],
            [
             0.6,
             "#e6f5d0"
            ],
            [
             0.7,
             "#b8e186"
            ],
            [
             0.8,
             "#7fbc41"
            ],
            [
             0.9,
             "#4d9221"
            ],
            [
             1,
             "#276419"
            ]
           ],
           "sequential": [
            [
             0,
             "#0d0887"
            ],
            [
             0.1111111111111111,
             "#46039f"
            ],
            [
             0.2222222222222222,
             "#7201a8"
            ],
            [
             0.3333333333333333,
             "#9c179e"
            ],
            [
             0.4444444444444444,
             "#bd3786"
            ],
            [
             0.5555555555555556,
             "#d8576b"
            ],
            [
             0.6666666666666666,
             "#ed7953"
            ],
            [
             0.7777777777777778,
             "#fb9f3a"
            ],
            [
             0.8888888888888888,
             "#fdca26"
            ],
            [
             1,
             "#f0f921"
            ]
           ],
           "sequentialminus": [
            [
             0,
             "#0d0887"
            ],
            [
             0.1111111111111111,
             "#46039f"
            ],
            [
             0.2222222222222222,
             "#7201a8"
            ],
            [
             0.3333333333333333,
             "#9c179e"
            ],
            [
             0.4444444444444444,
             "#bd3786"
            ],
            [
             0.5555555555555556,
             "#d8576b"
            ],
            [
             0.6666666666666666,
             "#ed7953"
            ],
            [
             0.7777777777777778,
             "#fb9f3a"
            ],
            [
             0.8888888888888888,
             "#fdca26"
            ],
            [
             1,
             "#f0f921"
            ]
           ]
          },
          "colorway": [
           "#636efa",
           "#EF553B",
           "#00cc96",
           "#ab63fa",
           "#FFA15A",
           "#19d3f3",
           "#FF6692",
           "#B6E880",
           "#FF97FF",
           "#FECB52"
          ],
          "font": {
           "color": "#2a3f5f"
          },
          "geo": {
           "bgcolor": "white",
           "lakecolor": "white",
           "landcolor": "#E5ECF6",
           "showlakes": true,
           "showland": true,
           "subunitcolor": "white"
          },
          "hoverlabel": {
           "align": "left"
          },
          "hovermode": "closest",
          "mapbox": {
           "style": "light"
          },
          "paper_bgcolor": "white",
          "plot_bgcolor": "#E5ECF6",
          "polar": {
           "angularaxis": {
            "gridcolor": "white",
            "linecolor": "white",
            "ticks": ""
           },
           "bgcolor": "#E5ECF6",
           "radialaxis": {
            "gridcolor": "white",
            "linecolor": "white",
            "ticks": ""
           }
          },
          "scene": {
           "xaxis": {
            "backgroundcolor": "#E5ECF6",
            "gridcolor": "white",
            "gridwidth": 2,
            "linecolor": "white",
            "showbackground": true,
            "ticks": "",
            "zerolinecolor": "white"
           },
           "yaxis": {
            "backgroundcolor": "#E5ECF6",
            "gridcolor": "white",
            "gridwidth": 2,
            "linecolor": "white",
            "showbackground": true,
            "ticks": "",
            "zerolinecolor": "white"
           },
           "zaxis": {
            "backgroundcolor": "#E5ECF6",
            "gridcolor": "white",
            "gridwidth": 2,
            "linecolor": "white",
            "showbackground": true,
            "ticks": "",
            "zerolinecolor": "white"
           }
          },
          "shapedefaults": {
           "line": {
            "color": "#2a3f5f"
           }
          },
          "ternary": {
           "aaxis": {
            "gridcolor": "white",
            "linecolor": "white",
            "ticks": ""
           },
           "baxis": {
            "gridcolor": "white",
            "linecolor": "white",
            "ticks": ""
           },
           "bgcolor": "#E5ECF6",
           "caxis": {
            "gridcolor": "white",
            "linecolor": "white",
            "ticks": ""
           }
          },
          "title": {
           "x": 0.05
          },
          "xaxis": {
           "automargin": true,
           "gridcolor": "white",
           "linecolor": "white",
           "ticks": "",
           "title": {
            "standoff": 15
           },
           "zerolinecolor": "white",
           "zerolinewidth": 2
          },
          "yaxis": {
           "automargin": true,
           "gridcolor": "white",
           "linecolor": "white",
           "ticks": "",
           "title": {
            "standoff": 15
           },
           "zerolinecolor": "white",
           "zerolinewidth": 2
          }
         }
        },
        "title": {
         "text": "Mt Bruno Elevation"
        },
        "width": 500
       }
      },
      "image/png": "[encoded data removed]",
      "text/html": [
       "<div>\n",
       "        \n",
       "        \n",
       "            <div id=\"cf84d48a-6ac4-4659-aae4-b3729d40d9fb\" class=\"plotly-graph-div\" style=\"height:500px; width:500px;\"></div>\n",
       "            <script type=\"text/javascript\">\n",
       "                require([\"plotly\"], function(Plotly) {\n",
       "                    window.PLOTLYENV=window.PLOTLYENV || {};\n",
       "                    \n",
       "                if (document.getElementById(\"cf84d48a-6ac4-4659-aae4-b3729d40d9fb\")) {\n",
       "                    Plotly.newPlot(\n",
       "                        'cf84d48a-6ac4-4659-aae4-b3729d40d9fb',\n",
       "                        [{\"type\": \"surface\", \"x\": [0.0, 0.041666666666666664, 0.08333333333333333, 0.125, 0.16666666666666666, 0.20833333333333331, 0.25, 0.29166666666666663, 0.3333333333333333, 0.375, 0.41666666666666663, 0.4583333333333333, 0.5, 0.5416666666666666, 0.5833333333333333, 0.625, 0.6666666666666666, 0.7083333333333333, 0.75, 0.7916666666666666, 0.8333333333333333, 0.875, 0.9166666666666666, 0.9583333333333333, 1.0], \"y\": [0.0, 0.041666666666666664, 0.08333333333333333, 0.125, 0.16666666666666666, 0.20833333333333331, 0.25, 0.29166666666666663, 0.3333333333333333, 0.375, 0.41666666666666663, 0.4583333333333333, 0.5, 0.5416666666666666, 0.5833333333333333, 0.625, 0.6666666666666666, 0.7083333333333333, 0.75, 0.7916666666666666, 0.8333333333333333, 0.875, 0.9166666666666666, 0.9583333333333333, 1.0], \"z\": [[0.0, 27.80985, 49.61936, 83.08067, 116.6632, 130.414, 150.7206, 220.1871, 156.1536, 148.6416, 203.7845, 206.0386, 107.1618, 68.36975, 45.3359, 49.961420000000004, 21.892789999999998, 17.02552, 11.74317, 14.75226, 13.6671, 5.677561, 3.3123400000000003, 1.156517, -0.147662], [1.0, 27.719659999999998, 48.55022, 65.21374, 95.27665999999999, 116.9964, 133.9056, 152.3412, 151.934, 160.1139, 179.5327, 147.6184, 170.3943, 121.8194, 52.58537, 33.08871, 38.40972, 44.24843, 69.5786, 4.019351, 3.050024, 3.039719, 2.996142, 2.967954, 1.9995939999999999], [2.0, 30.4267, 33.47752, 44.80953, 62.47495, 77.43523, 104.2153, 102.7393, 137.0004, 186.0706, 219.3173, 181.7615, 120.9154, 143.1835, 82.40501, 48.47132, 74.71461, 60.0909, 7.073525, 6.089851, 6.53745, 6.6660960000000005, 7.306964999999999, 5.73684, 3.625628], [3.0, 16.66549, 30.1086, 39.96952, 44.12225, 59.57512, 77.56929000000001, 106.8925, 166.5539, 175.2381, 185.2815, 154.5056, 83.0433, 62.61731999999999, 62.331669999999995, 60.55916, 55.921240000000004, 15.172839999999999, 8.248324, 36.68087, 61.93413, 20.26867, 68.58819, 46.49812, 0.23600949999999998], [4.0, 8.815617, 18.3516, 8.658275, 27.5859, 48.626909999999995, 60.180130000000005, 91.3286, 145.7109, 116.0653, 106.2662, 68.69447, 53.105959999999996, 37.92797, 47.95942, 47.42691, 69.20730999999999, 44.954679999999996, 29.17197, 17.91674, 16.25515, 14.65559, 17.260479999999998, 31.22245, 46.717040000000004], [5.0, 6.628881, 10.41339, 24.81939, 26.08952, 30.1605, 52.30802, 64.71007, 76.30823000000001, 84.63686, 99.4324, 62.521319999999996, 46.81647, 55.766059999999996, 82.4099, 140.2647, 81.26501, 56.45756, 30.421640000000004, 17.28782, 8.302431, 2.981626, 2.6985360000000003, 5.886086, 5.268358], [6.0, 21.83975, 6.63927, 18.97085, 32.89204, 43.15014, 62.86014, 104.6657, 130.2294, 114.8494, 106.9873, 61.896469999999994, 55.556819999999995, 86.80986, 89.27802, 122.4221, 123.9698, 109.0952, 98.41956, 77.61374, 32.49031, 14.67344, 7.370775, 0.03711011, 0.6423392], [7.0, 53.343030000000006, 26.79797, 6.63927, 10.88787, 17.2044, 56.18116, 79.70141, 90.8453, 98.27675, 80.87243000000001, 74.7931, 75.54661, 73.4373, 74.11694, 68.1749, 46.240759999999995, 39.93857, 31.21653, 36.88335, 40.02525, 117.4297, 12.70328, 1.729771, 0.0], [8.0, 25.66785, 63.05716999999999, 22.1414, 17.074, 41.74483, 60.27226999999999, 81.42432, 114.444, 102.3234, 101.7878, 111.031, 119.2309, 114.0777, 110.5296, 59.19355, 42.47175, 14.635979999999998, 6.9440740000000005, 6.944075, 27.74936, 0.0, 0.0, 0.09449376, 0.07732264], [9.0, 12.827, 69.20554, 46.76293, 13.96517, 33.887440000000005, 61.826130000000006, 84.74799, 121.12200000000001, 145.2741, 153.1797, 204.78599999999997, 227.9242, 236.3038, 228.3655, 79.34425, 25.934829999999998, 6.9440740000000005, 6.9440740000000005, 6.944075, 7.553681, 0.0, 0.0, 0.0, 0.0], [10.0, 0.0, 68.66396, 59.0435, 33.357620000000004, 47.45282, 57.8355, 78.91689000000001, 107.8275, 168.0053, 130.9597, 212.5541, 165.8122, 210.2429, 181.1713, 189.7617, 137.3378, 84.65395, 8.677168, 6.956575999999999, 8.468093, 0.0, 0.0, 0.0, 0.0], [11.0, 0.0, 95.17499000000001, 80.03818000000001, 59.898619999999994, 39.584759999999996, 50.28058, 63.81641, 80.61301999999999, 66.37824, 198.7651, 244.3467, 294.2474, 264.3517, 176.4082, 60.21856999999999, 77.41475, 53.16981, 56.16393000000001, 6.949235000000001, 7.531059, 3.7801769999999997, 0.0, 0.0, 0.0], [12.0, 0.0, 134.9879, 130.3696, 96.86325, 75.70494000000001, 58.86466, 57.20374, 55.18836999999999, 78.128, 108.5582, 154.3774, 319.1686, 372.8826, 275.4655, 130.2632, 54.938219999999994, 25.49719, 8.047439, 8.084392999999999, 5.115252, 5.678269, 0.0, 0.0, 0.0], [13.0, 0.0, 48.08919, 142.5558, 140.3777, 154.7261, 87.9361, 58.11091999999999, 52.83869, 67.14822, 83.66798, 118.9242, 150.0681, 272.9709, 341.1366, 238.66400000000002, 190.2, 116.8943, 91.48671999999999, 14.0157, 42.292770000000004, 5.115252, 0.0, 0.0, 0.0], [14.0, 0.0, 54.1941, 146.3839, 99.48143, 96.19411, 102.9473, 76.14089, 57.7844, 47.0402, 64.36799, 84.23767, 162.7181, 121.3275, 213.1646, 328.48199999999997, 285.4489, 283.8319, 212.815, 164.549, 92.29630999999999, 7.244014999999999, 1.167, 0.0, 0.0], [15.0, 0.0, 6.919658999999999, 195.1709, 132.5253, 135.2341, 89.85069, 89.45549, 60.29966999999999, 50.33806, 39.17583, 59.068540000000006, 74.52159, 84.93401999999999, 187.1219, 123.9673, 103.7027, 128.986, 165.1283, 249.7054, 95.39966, 10.002839999999999, 2.39255, 0.0, 0.0], [16.0, 0.0, 21.73871, 123.1339, 176.7414, 158.2698, 137.235, 105.3089, 86.63255, 53.11591, 29.03865, 30.40539, 39.04902, 49.23405, 63.27853, 111.4215, 101.1956, 40.00962, 59.84565, 74.51253, 17.06316, 2.435141, 2.287471, -0.0003636982, 0.0], [17.0, 0.0, 0.0, 62.04671999999999, 136.3122, 201.7952, 168.1343, 95.2046, 58.906240000000004, 46.940909999999995, 49.27053, 37.10416, 17.970110000000002, 30.936970000000002, 33.39257, 44.030770000000004, 55.645419999999994, 78.22423, 14.42782, 9.954997, 7.768213, 13.0254, 21.73166, 2.156372, 0.5317867], [18.0, 0.0, 0.0, 79.62993, 139.6978, 173.167, 192.8718, 196.3499, 144.6611, 106.5424, 57.16653, 41.16107, 32.12764, 13.8566, 10.91772, 12.071769999999999, 22.38254, 24.72105, 6.803666000000001, 4.2008410000000005, 16.46857, 15.70744, 33.96221, 7.575688, -0.04880907], [19.0, 0.0, 0.0, 33.2664, 57.53643, 167.2241, 196.4833, 194.7966, 182.1884, 119.6961, 73.02113, 48.36549, 33.746520000000004, 26.2379, 16.3578, 6.811292999999999, 6.63927, 6.639271000000001, 8.468093, 6.194273, 3.5912330000000003, 3.81486, 8.600739, 5.21889, 0.0], [20.0, 0.0, 0.0, 29.77937, 54.97282, 144.7995, 207.4904, 165.3432, 171.4047, 174.9216, 100.2733, 61.46441, 50.19171, 26.08209, 17.18218, 8.468093, 6.63927, 6.334467, 6.334467, 5.6666870000000005, 4.272203, 0.0, 0.0, 0.0, 0.0], [21.0, 0.0, 0.0, 31.409000000000002, 132.7418, 185.5796, 121.8299, 185.3841, 160.6566, 116.1478, 118.1078, 141.7946, 65.56351, 48.84066, 23.13864, 18.12932, 10.28531, 6.029662999999999, 6.044626999999999, 5.694764, 3.7390849999999998, 3.896037, 0.0, 0.0, 0.0], [22.0, 0.0, 0.0, 19.58994, 42.30355, 96.26777, 187.1207, 179.6626, 221.3898, 154.2617, 142.1604, 148.5737, 67.17936999999999, 40.69044, 39.74512, 26.10166, 14.484689999999999, 8.65873, 3.896037, 3.571392, 3.896037, 3.896037, 3.896037, 1.077756, 0.0], [23.0, 0.001229679, 3.008948, 5.909858, 33.50574, 104.3341, 152.2165, 198.1988, 191.84099999999998, 228.7349, 168.1041, 144.2759, 110.7436, 57.65214, 42.635040000000004, 27.918909999999997, 15.410520000000002, 8.056102000000001, 3.9028300000000002, 3.879774, 3.936718, 3.9686339999999998, 0.1236256, 3.985531, -0.1835741], [24.0, 0.0, 5.6261410000000005, 7.6762559999999995, 63.162259999999996, 45.99762, 79.56688, 227.31099999999998, 203.9287, 172.5618, 177.1462, 140.4554, 123.9905, 110.346, 65.12319000000001, 34.318870000000004, 24.5278, 9.561069, 3.3349910000000005, 5.590495, 5.487353, 5.909498999999999, 5.868994, 5.833817, 3.5681769999999995]]}],\n",
       "                        {\"autosize\": false, \"height\": 500, \"margin\": {\"b\": 65, \"l\": 65, \"r\": 50, \"t\": 90}, \"template\": {\"data\": {\"bar\": [{\"error_x\": {\"color\": \"#2a3f5f\"}, \"error_y\": {\"color\": \"#2a3f5f\"}, \"marker\": {\"line\": {\"color\": \"#E5ECF6\", \"width\": 0.5}}, \"type\": \"bar\"}], \"barpolar\": [{\"marker\": {\"line\": {\"color\": \"#E5ECF6\", \"width\": 0.5}}, \"type\": \"barpolar\"}], \"carpet\": [{\"aaxis\": {\"endlinecolor\": \"#2a3f5f\", \"gridcolor\": \"white\", \"linecolor\": \"white\", \"minorgridcolor\": \"white\", \"startlinecolor\": \"#2a3f5f\"}, \"baxis\": {\"endlinecolor\": \"#2a3f5f\", \"gridcolor\": \"white\", \"linecolor\": \"white\", \"minorgridcolor\": \"white\", \"startlinecolor\": \"#2a3f5f\"}, \"type\": \"carpet\"}], \"choropleth\": [{\"colorbar\": {\"outlinewidth\": 0, \"ticks\": \"\"}, \"type\": \"choropleth\"}], \"contour\": [{\"colorbar\": {\"outlinewidth\": 0, \"ticks\": \"\"}, \"colorscale\": [[0.0, \"#0d0887\"], [0.1111111111111111, \"#46039f\"], [0.2222222222222222, \"#7201a8\"], [0.3333333333333333, \"#9c179e\"], [0.4444444444444444, \"#bd3786\"], [0.5555555555555556, \"#d8576b\"], [0.6666666666666666, \"#ed7953\"], [0.7777777777777778, \"#fb9f3a\"], [0.8888888888888888, \"#fdca26\"], [1.0, \"#f0f921\"]], \"type\": \"contour\"}], \"contourcarpet\": [{\"colorbar\": {\"outlinewidth\": 0, \"ticks\": \"\"}, \"type\": \"contourcarpet\"}], \"heatmap\": [{\"colorbar\": {\"outlinewidth\": 0, \"ticks\": \"\"}, \"colorscale\": [[0.0, \"#0d0887\"], [0.1111111111111111, \"#46039f\"], [0.2222222222222222, \"#7201a8\"], [0.3333333333333333, \"#9c179e\"], [0.4444444444444444, \"#bd3786\"], [0.5555555555555556, \"#d8576b\"], [0.6666666666666666, \"#ed7953\"], [0.7777777777777778, \"#fb9f3a\"], [0.8888888888888888, \"#fdca26\"], [1.0, \"#f0f921\"]], \"type\": \"heatmap\"}], \"heatmapgl\": [{\"colorbar\": {\"outlinewidth\": 0, \"ticks\": \"\"}, \"colorscale\": [[0.0, \"#0d0887\"], [0.1111111111111111, \"#46039f\"], [0.2222222222222222, \"#7201a8\"], [0.3333333333333333, \"#9c179e\"], [0.4444444444444444, \"#bd3786\"], [0.5555555555555556, \"#d8576b\"], [0.6666666666666666, \"#ed7953\"], [0.7777777777777778, \"#fb9f3a\"], [0.8888888888888888, \"#fdca26\"], [1.0, \"#f0f921\"]], \"type\": \"heatmapgl\"}], \"histogram\": [{\"marker\": {\"colorbar\": {\"outlinewidth\": 0, \"ticks\": \"\"}}, \"type\": \"histogram\"}], \"histogram2d\": [{\"colorbar\": {\"outlinewidth\": 0, \"ticks\": \"\"}, \"colorscale\": [[0.0, \"#0d0887\"], [0.1111111111111111, \"#46039f\"], [0.2222222222222222, \"#7201a8\"], [0.3333333333333333, \"#9c179e\"], [0.4444444444444444, \"#bd3786\"], [0.5555555555555556, \"#d8576b\"], [0.6666666666666666, \"#ed7953\"], [0.7777777777777778, \"#fb9f3a\"], [0.8888888888888888, \"#fdca26\"], [1.0, \"#f0f921\"]], \"type\": \"histogram2d\"}], \"histogram2dcontour\": [{\"colorbar\": {\"outlinewidth\": 0, \"ticks\": \"\"}, \"colorscale\": [[0.0, \"#0d0887\"], [0.1111111111111111, \"#46039f\"], [0.2222222222222222, \"#7201a8\"], [0.3333333333333333, \"#9c179e\"], [0.4444444444444444, \"#bd3786\"], [0.5555555555555556, \"#d8576b\"], [0.6666666666666666, \"#ed7953\"], [0.7777777777777778, \"#fb9f3a\"], [0.8888888888888888, \"#fdca26\"], [1.0, \"#f0f921\"]], \"type\": \"histogram2dcontour\"}], \"mesh3d\": [{\"colorbar\": {\"outlinewidth\": 0, \"ticks\": \"\"}, \"type\": \"mesh3d\"}], \"parcoords\": [{\"line\": {\"colorbar\": {\"outlinewidth\": 0, \"ticks\": \"\"}}, \"type\": \"parcoords\"}], \"pie\": [{\"automargin\": true, \"type\": \"pie\"}], \"scatter\": [{\"marker\": {\"colorbar\": {\"outlinewidth\": 0, \"ticks\": \"\"}}, \"type\": \"scatter\"}], \"scatter3d\": [{\"line\": {\"colorbar\": {\"outlinewidth\": 0, \"ticks\": \"\"}}, \"marker\": {\"colorbar\": {\"outlinewidth\": 0, \"ticks\": \"\"}}, \"type\": \"scatter3d\"}], \"scattercarpet\": [{\"marker\": {\"colorbar\": {\"outlinewidth\": 0, \"ticks\": \"\"}}, \"type\": \"scattercarpet\"}], \"scattergeo\": [{\"marker\": {\"colorbar\": {\"outlinewidth\": 0, \"ticks\": \"\"}}, \"type\": \"scattergeo\"}], \"scattergl\": [{\"marker\": {\"colorbar\": {\"outlinewidth\": 0, \"ticks\": \"\"}}, \"type\": \"scattergl\"}], \"scattermapbox\": [{\"marker\": {\"colorbar\": {\"outlinewidth\": 0, \"ticks\": \"\"}}, \"type\": \"scattermapbox\"}], \"scatterpolar\": [{\"marker\": {\"colorbar\": {\"outlinewidth\": 0, \"ticks\": \"\"}}, \"type\": \"scatterpolar\"}], \"scatterpolargl\": [{\"marker\": {\"colorbar\": {\"outlinewidth\": 0, \"ticks\": \"\"}}, \"type\": \"scatterpolargl\"}], \"scatterternary\": [{\"marker\": {\"colorbar\": {\"outlinewidth\": 0, \"ticks\": \"\"}}, \"type\": \"scatterternary\"}], \"surface\": [{\"colorbar\": {\"outlinewidth\": 0, \"ticks\": \"\"}, \"colorscale\": [[0.0, \"#0d0887\"], [0.1111111111111111, \"#46039f\"], [0.2222222222222222, \"#7201a8\"], [0.3333333333333333, \"#9c179e\"], [0.4444444444444444, \"#bd3786\"], [0.5555555555555556, \"#d8576b\"], [0.6666666666666666, \"#ed7953\"], [0.7777777777777778, \"#fb9f3a\"], [0.8888888888888888, \"#fdca26\"], [1.0, \"#f0f921\"]], \"type\": \"surface\"}], \"table\": [{\"cells\": {\"fill\": {\"color\": \"#EBF0F8\"}, \"line\": {\"color\": \"white\"}}, \"header\": {\"fill\": {\"color\": \"#C8D4E3\"}, \"line\": {\"color\": \"white\"}}, \"type\": \"table\"}]}, \"layout\": {\"annotationdefaults\": {\"arrowcolor\": \"#2a3f5f\", \"arrowhead\": 0, \"arrowwidth\": 1}, \"coloraxis\": {\"colorbar\": {\"outlinewidth\": 0, \"ticks\": \"\"}}, \"colorscale\": {\"diverging\": [[0, \"#8e0152\"], [0.1, \"#c51b7d\"], [0.2, \"#de77ae\"], [0.3, \"#f1b6da\"], [0.4, \"#fde0ef\"], [0.5, \"#f7f7f7\"], [0.6, \"#e6f5d0\"], [0.7, \"#b8e186\"], [0.8, \"#7fbc41\"], [0.9, \"#4d9221\"], [1, \"#276419\"]], \"sequential\": [[0.0, \"#0d0887\"], [0.1111111111111111, \"#46039f\"], [0.2222222222222222, \"#7201a8\"], [0.3333333333333333, \"#9c179e\"], [0.4444444444444444, \"#bd3786\"], [0.5555555555555556, \"#d8576b\"], [0.6666666666666666, \"#ed7953\"], [0.7777777777777778, \"#fb9f3a\"], [0.8888888888888888, \"#fdca26\"], [1.0, \"#f0f921\"]], \"sequentialminus\": [[0.0, \"#0d0887\"], [0.1111111111111111, \"#46039f\"], [0.2222222222222222, \"#7201a8\"], [0.3333333333333333, \"#9c179e\"], [0.4444444444444444, \"#bd3786\"], [0.5555555555555556, \"#d8576b\"], [0.6666666666666666, \"#ed7953\"], [0.7777777777777778, \"#fb9f3a\"], [0.8888888888888888, \"#fdca26\"], [1.0, \"#f0f921\"]]}, \"colorway\": [\"#636efa\", \"#EF553B\", \"#00cc96\", \"#ab63fa\", \"#FFA15A\", \"#19d3f3\", \"#FF6692\", \"#B6E880\", \"#FF97FF\", \"#FECB52\"], \"font\": {\"color\": \"#2a3f5f\"}, \"geo\": {\"bgcolor\": \"white\", \"lakecolor\": \"white\", \"landcolor\": \"#E5ECF6\", \"showlakes\": true, \"showland\": true, \"subunitcolor\": \"white\"}, \"hoverlabel\": {\"align\": \"left\"}, \"hovermode\": \"closest\", \"mapbox\": {\"style\": \"light\"}, \"paper_bgcolor\": \"white\", \"plot_bgcolor\": \"#E5ECF6\", \"polar\": {\"angularaxis\": {\"gridcolor\": \"white\", \"linecolor\": \"white\", \"ticks\": \"\"}, \"bgcolor\": \"#E5ECF6\", \"radialaxis\": {\"gridcolor\": \"white\", \"linecolor\": \"white\", \"ticks\": \"\"}}, \"scene\": {\"xaxis\": {\"backgroundcolor\": \"#E5ECF6\", \"gridcolor\": \"white\", \"gridwidth\": 2, \"linecolor\": \"white\", \"showbackground\": true, \"ticks\": \"\", \"zerolinecolor\": \"white\"}, \"yaxis\": {\"backgroundcolor\": \"#E5ECF6\", \"gridcolor\": \"white\", \"gridwidth\": 2, \"linecolor\": \"white\", \"showbackground\": true, \"ticks\": \"\", \"zerolinecolor\": \"white\"}, \"zaxis\": {\"backgroundcolor\": \"#E5ECF6\", \"gridcolor\": \"white\", \"gridwidth\": 2, \"linecolor\": \"white\", \"showbackground\": true, \"ticks\": \"\", \"zerolinecolor\": \"white\"}}, \"shapedefaults\": {\"line\": {\"color\": \"#2a3f5f\"}}, \"ternary\": {\"aaxis\": {\"gridcolor\": \"white\", \"linecolor\": \"white\", \"ticks\": \"\"}, \"baxis\": {\"gridcolor\": \"white\", \"linecolor\": \"white\", \"ticks\": \"\"}, \"bgcolor\": \"#E5ECF6\", \"caxis\": {\"gridcolor\": \"white\", \"linecolor\": \"white\", \"ticks\": \"\"}}, \"title\": {\"x\": 0.05}, \"xaxis\": {\"automargin\": true, \"gridcolor\": \"white\", \"linecolor\": \"white\", \"ticks\": \"\", \"title\": {\"standoff\": 15}, \"zerolinecolor\": \"white\", \"zerolinewidth\": 2}, \"yaxis\": {\"automargin\": true, \"gridcolor\": \"white\", \"linecolor\": \"white\", \"ticks\": \"\", \"title\": {\"standoff\": 15}, \"zerolinecolor\": \"white\", \"zerolinewidth\": 2}}}, \"title\": {\"text\": \"Mt Bruno Elevation\"}, \"width\": 500},\n",
       "                        {\"responsive\": true}\n",
       "                    ).then(function(){\n",
       "                            \n",
       "var gd = document.getElementById('cf84d48a-6ac4-4659-aae4-b3729d40d9fb');\n",
       "var x = new MutationObserver(function (mutations, observer) {{\n",
       "        var display = window.getComputedStyle(gd).display;\n",
       "        if (!display || display === 'none') {{\n",
       "            console.log([gd, 'removed!']);\n",
       "            Plotly.purge(gd);\n",
       "            observer.disconnect();\n",
       "        }}\n",
       "}});\n",
       "\n",
       "// Listen for the removal of the full notebook cells\n",
       "var notebookContainer = gd.closest('#notebook-container');\n",
       "if (notebookContainer) {{\n",
       "    x.observe(notebookContainer, {childList: true});\n",
       "}}\n",
       "\n",
       "// Listen for the clearing of the current output cell\n",
       "var outputEl = gd.closest('.output');\n",
       "if (outputEl) {{\n",
       "    x.observe(outputEl, {childList: true});\n",
       "}}\n",
       "\n",
       "                        })\n",
       "                };\n",
       "                });\n",
       "            </script>\n",
       "        </div>"
      ]
     },
     "metadata": {},
     "output_type": "display_data"
    }
   ],
   "source": []
  },
  {
   "cell_type": "markdown",
   "metadata": {},
   "source": [
    "Now you can hover over the plot to check the incoming radiation at each point!"
   ]
  },
  {
   "cell_type": "code",
   "execution_count": null,
   "metadata": {},
   "outputs": [],
   "source": []
  }
 ],
 "metadata": {
  "kernelspec": {
   "display_name": "Python 3",
   "language": "python",
   "name": "python3"
  },
  "language_info": {
   "codemirror_mode": {
    "name": "ipython",
    "version": 3
   },
   "file_extension": ".py",
   "mimetype": "text/x-python",
   "name": "python",
   "nbconvert_exporter": "python",
   "pygments_lexer": "ipython3",
   "version": "3.7.0"
  }
 },
 "nbformat": 4,
 "nbformat_minor": 4
}
